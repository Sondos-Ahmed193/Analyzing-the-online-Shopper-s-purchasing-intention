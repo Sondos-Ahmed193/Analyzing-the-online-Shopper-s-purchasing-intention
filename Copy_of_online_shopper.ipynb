{
  "nbformat": 4,
  "nbformat_minor": 0,
  "metadata": {
    "colab": {
      "private_outputs": true,
      "provenance": [],
      "mount_file_id": "1664ozLb6HJZ1sEQfIZD1kWJWhd49KL-3",
      "authorship_tag": "ABX9TyMatikAhDHrPD+A58/F4tDx",
      "include_colab_link": true
    },
    "kernelspec": {
      "name": "python3",
      "display_name": "Python 3"
    },
    "language_info": {
      "name": "python"
    },
    "gpuClass": "standard"
  },
  "cells": [
    {
      "cell_type": "markdown",
      "metadata": {
        "id": "view-in-github",
        "colab_type": "text"
      },
      "source": [
        "<a href=\"https://colab.research.google.com/github/Sondos-Ahmed193/Analyzing-the-online-Shopper-s-purchasing-intention/blob/main/Copy_of_online_shopper.ipynb\" target=\"_parent\"><img src=\"https://colab.research.google.com/assets/colab-badge.svg\" alt=\"Open In Colab\"/></a>"
      ]
    },
    {
      "cell_type": "code",
      "execution_count": null,
      "metadata": {
        "id": "YMZ3JZGV1iTw"
      },
      "outputs": [],
      "source": [
        "\n",
        "import pandas as pd\n",
        "import numpy as np\n",
        "import seaborn as sns\n",
        "import matplotlib.pyplot as plt\n",
        "from sklearn.cluster import KMeans\n",
        "from sklearn import preprocessing\n",
        "from sklearn.preprocessing import RobustScaler\n",
        "from sklearn.preprocessing import StandardScaler\n",
        "from sklearn.preprocessing import Normalizer\n",
        "from imblearn.over_sampling import SMOTE\n",
        "from sklearn.model_selection import train_test_split\n",
        "import warnings\n",
        "warnings.filterwarnings(\"ignore\")\n"
      ]
    },
    {
      "cell_type": "code",
      "source": [
        "df = pd.read_csv('/content/drive/MyDrive/Data Analysis/Data analysis workshop/online shopper/online_shoppers_intention.csv')"
      ],
      "metadata": {
        "id": "7eMg7nMDMnx-"
      },
      "execution_count": null,
      "outputs": []
    },
    {
      "cell_type": "code",
      "source": [
        "df.head()"
      ],
      "metadata": {
        "id": "cZOVjnNPM2ns"
      },
      "execution_count": null,
      "outputs": []
    },
    {
      "cell_type": "markdown",
      "source": [
        "check the metadata of the DataFrame:"
      ],
      "metadata": {
        "id": "m-tWdxZANXnI"
      }
    },
    {
      "cell_type": "code",
      "source": [
        "df.info()"
      ],
      "metadata": {
        "id": "DjkXg7blWRhv"
      },
      "execution_count": null,
      "outputs": []
    },
    {
      "cell_type": "markdown",
      "source": [
        "check for null values"
      ],
      "metadata": {
        "id": "fs2qs-CgN_EU"
      }
    },
    {
      "cell_type": "code",
      "source": [
        "df.isnull().sum()"
      ],
      "metadata": {
        "id": "mlv7o6I9WZx3"
      },
      "execution_count": null,
      "outputs": []
    },
    {
      "cell_type": "markdown",
      "source": [
        "There is no null value in the DataFrame, so we don't have to do any kind of\n",
        "imputation to fill in the null values.\n",
        "\n",
        "\n",
        "---\n",
        "\n",
        "**Exploratory Data Analysis (EDA)**\n",
        "\n",
        "We can split exploratory data analytics into three parts:\n",
        "\n",
        "*   Univariate analysis\n",
        "*   Bivariate analysis\n",
        "*   Linear relationships\n",
        "\n",
        "\n",
        "---\n",
        "\n"
      ],
      "metadata": {
        "id": "EIFjxkJEOJh8"
      }
    },
    {
      "cell_type": "markdown",
      "source": [
        "**Univariate Analysis**\n",
        "\n",
        "we analyze each feature of a DataFrame and try to uncover the pattern or distribution of the data. \n",
        "\n",
        "we will be looking at the following features:\n",
        "\n",
        "\n",
        "*    Revenue\n",
        "\n",
        "\n",
        "*   Visitor type\n",
        "\n",
        "*   Traffic type\n",
        "*   region\n",
        "\n",
        "\n",
        "*   Weekend-wise distribution\n",
        "\n",
        "\n",
        "*  \tBrowser and operating system\n",
        "\n",
        "*   Administrative page\n",
        "*   Information page\n",
        "\n",
        "\n",
        "*   special day\n",
        "\n",
        "\n",
        "\n"
      ],
      "metadata": {
        "id": "qSC5b4zHRO_A"
      }
    },
    {
      "cell_type": "markdown",
      "source": [
        "**Baseline Conversion Rate from the Revenue Column**\n",
        "\n",
        "This feature simply refers to how many of the online shopping sessions ended in a purchase."
      ],
      "metadata": {
        "id": "zkyARzkgTadI"
      }
    },
    {
      "cell_type": "code",
      "source": [
        "sns.countplot(df['Revenue'])\n",
        "plt.title('Revenue Distribution', fontsize = 20)\n",
        "plt.show()"
      ],
      "metadata": {
        "id": "k7YL0lJZTfUV"
      },
      "execution_count": null,
      "outputs": []
    },
    {
      "cell_type": "markdown",
      "source": [
        "From the preceding graph, we can see that False has a higher number count than\n",
        "True. In order to get the exact value, consider the value counts of each subcategory:\n"
      ],
      "metadata": {
        "id": "WCLcgUwOUZ2C"
      }
    },
    {
      "cell_type": "code",
      "source": [
        "print(df['Revenue'].value_counts())\n",
        "print()\n",
        "print(df['Revenue'].value_counts(normalize=True))\n",
        "     "
      ],
      "metadata": {
        "id": "DtgRj1wfUiob"
      },
      "execution_count": null,
      "outputs": []
    },
    {
      "cell_type": "markdown",
      "source": [
        "As you can see from the preceding data, a total of **1,908** customers ended up making a purchase, while **10,422** customers did not.\n",
        "The baseline conversion rate of online visitors versus overall visitors is a ratio between the total number of online sessions that led to a purchase divided by the total number of sessions. This is calculated as follows:\n",
        "\n",
        "```\n",
        "1908/12330 * 100 = 15.47%\n",
        "```\n",
        "\n",
        "\n",
        "\n"
      ],
      "metadata": {
        "id": "HWcvwmTeVJ7E"
      }
    },
    {
      "cell_type": "markdown",
      "source": [
        "**Visitor-Wise Distribution**\n",
        "\n",
        "We want to determine which visitor type is most frequent—whether this is new visitors, returning visitors, or any other category."
      ],
      "metadata": {
        "id": "2RpVQCZLAV02"
      }
    },
    {
      "cell_type": "code",
      "source": [
        "sns.countplot(df['VisitorType'])\n",
        "plt.title('Visitor Type wise Distribution', fontsize = 20)\n",
        "plt.show()\n"
      ],
      "metadata": {
        "id": "9uf1R2Yx_wjY"
      },
      "execution_count": null,
      "outputs": []
    },
    {
      "cell_type": "code",
      "source": [
        "#calculation exact number of each visitor type \n",
        "print(df['VisitorType'].value_counts())\n",
        "print()\n",
        "print(df['VisitorType'].value_counts(normalize=True))\n"
      ],
      "metadata": {
        "id": "dglebXeDAxiE"
      },
      "execution_count": null,
      "outputs": []
    },
    {
      "cell_type": "markdown",
      "source": [
        "From the preceding information, we can see that the number of returning customers is higher than that of new visitors. This is good news as it means we have been successful in attracting customers back to our website."
      ],
      "metadata": {
        "id": "0jjDFIWdBoTT"
      }
    },
    {
      "cell_type": "markdown",
      "source": [
        "**Traffic-Wise Distribution**\n",
        "\n",
        "let's consider the distribution of traffic. We want to find out how the visitors visit our page to determine what amount of site traffic is accounted for by direct visitors (meaning they enter the URL into the browser) and how much is generated through other mediums, such as blogs or advertisements."
      ],
      "metadata": {
        "id": "mp2bkuFuBzG4"
      }
    },
    {
      "cell_type": "code",
      "source": [
        "sns.countplot(df['TrafficType'])\n",
        "plt.title('Traffic Type wise Distribution', fontsize = 20)\n",
        "plt.show()"
      ],
      "metadata": {
        "id": "MVZQdjCzCHHN"
      },
      "execution_count": null,
      "outputs": []
    },
    {
      "cell_type": "markdown",
      "source": [
        "From the preceding graph, we can see that traffic type 2 has the highest count. "
      ],
      "metadata": {
        "id": "eoSkMI8BEn2o"
      }
    },
    {
      "cell_type": "markdown",
      "source": [
        "To get the exact value, normalize the count to get the percentage value for each source:"
      ],
      "metadata": {
        "id": "QIOM7z-RErfQ"
      }
    },
    {
      "cell_type": "code",
      "source": [
        "print(df['TrafficType'].value_counts())\n",
        "print()\n",
        "print(df['TrafficType'].value_counts(normalize = True))"
      ],
      "metadata": {
        "id": "tJulD_r4D2eY"
      },
      "execution_count": null,
      "outputs": []
    },
    {
      "cell_type": "markdown",
      "source": [
        "From the preceding information, we can see that sources 2, 1, 3, and 4 account for\n",
        "the majority of our web traffic.\n"
      ],
      "metadata": {
        "id": "ZN1EbEDQFBox"
      }
    },
    {
      "cell_type": "markdown",
      "source": [
        "**Analyzing the Distribution of Customers Session on the Website**\n",
        "\n",
        "we will consider the distribution of customers over days of the week to determine whether customers are more active on weekends or weekdays."
      ],
      "metadata": {
        "id": "1jpwQD61FkDG"
      }
    },
    {
      "cell_type": "code",
      "source": [
        "sns.countplot(df['Weekend'])\n",
        "plt.title('Weekend Session Distribution', fontsize = 20)\n",
        "plt.show()\n"
      ],
      "metadata": {
        "id": "5ChURdEcFysE"
      },
      "execution_count": null,
      "outputs": []
    },
    {
      "cell_type": "markdown",
      "source": [
        "Now, look at the count of each subcategory in the weekend column"
      ],
      "metadata": {
        "id": "sLdXpmVyGEjz"
      }
    },
    {
      "cell_type": "code",
      "source": [
        "print(df['Weekend'].value_counts())\n",
        "print()\n",
        "print(df['Weekend'].value_counts(normalize=True))"
      ],
      "metadata": {
        "id": "VzBfSnQ8GHh8"
      },
      "execution_count": null,
      "outputs": []
    },
    {
      "cell_type": "markdown",
      "source": [
        "From the count of the False subcategory, we can see that more visitors visit during weekdays than weekend days.\n"
      ],
      "metadata": {
        "id": "O6q1Oy2DGS0f"
      }
    },
    {
      "cell_type": "markdown",
      "source": [
        "**Region-Wise Distribution**\n",
        "\n",
        "we look at the region-wise distribution of the sessions. The main motive behind this analysis is to find out which region has the highest number of visitors visiting our website."
      ],
      "metadata": {
        "id": "Rl_lZGNWGvka"
      }
    },
    {
      "cell_type": "code",
      "source": [
        "sns.countplot(df['Region'])\n",
        "plt.title('Region wise Distribution', fontsize = 20)\n",
        "plt.show()"
      ],
      "metadata": {
        "id": "knGyC0epG8tA"
      },
      "execution_count": null,
      "outputs": []
    },
    {
      "cell_type": "markdown",
      "source": [
        ". Let's print the value count of each region and normalize the value to find the percentage contribution of each"
      ],
      "metadata": {
        "id": "RS4FMjLGHpZK"
      }
    },
    {
      "cell_type": "code",
      "source": [
        "print(df['Region'].value_counts())\n",
        "print()\n",
        "print(df['Region'].value_counts(normalize=True))"
      ],
      "metadata": {
        "id": "jXeUlUGCHcBg"
      },
      "execution_count": null,
      "outputs": []
    },
    {
      "cell_type": "markdown",
      "source": [
        "From the preceding data, we can see that regions 1 and 3 account for 50% of online sessions; thus, we can infer that regions 1 and 3 are where most potential consumers reside. With this information, we can target our marketing campaigns better."
      ],
      "metadata": {
        "id": "aHRDojy7JPvf"
      }
    },
    {
      "cell_type": "markdown",
      "source": [
        "**Analyzing the Browser and OS Distribution of Customers**\n",
        "\n",
        "we will be checking the distribution of browsers and operating systems used by customers to determine which type of browser and OS is used by our visitors. This information will allow us to configure our website so that we can make it more responsive and user-friendly."
      ],
      "metadata": {
        "id": "E4hNOPTqJR2q"
      }
    },
    {
      "cell_type": "code",
      "source": [
        "sns.countplot(df['Browser'])\n",
        "plt.title('Browser wise session Distribution', fontsize = 20)\n",
        "plt.show()"
      ],
      "metadata": {
        "id": "vxvpgLgnE3Tj"
      },
      "execution_count": null,
      "outputs": []
    },
    {
      "cell_type": "code",
      "source": [
        "print(df['Browser'].value_counts())\n",
        "print()\n",
        "print(df['Browser'].value_counts(normalize=True))"
      ],
      "metadata": {
        "id": "2W-36lg3KLE-"
      },
      "execution_count": null,
      "outputs": []
    },
    {
      "cell_type": "code",
      "source": [
        "sns.countplot(df['OperatingSystems'])\n",
        "plt.title('OS wise session Distribution', fontsize = 20)\n",
        "plt.show()"
      ],
      "metadata": {
        "id": "A-5KTMGGKTdQ"
      },
      "execution_count": null,
      "outputs": []
    },
    {
      "cell_type": "code",
      "source": [
        "print(df['OperatingSystems'].value_counts())\n",
        "print()\n",
        "print(df['OperatingSystems'].value_counts(normalize=True))\n"
      ],
      "metadata": {
        "id": "215I6GtpKgNe"
      },
      "execution_count": null,
      "outputs": []
    },
    {
      "cell_type": "markdown",
      "source": [
        "As you know, the visual method of representation is easier to understand as visual data is certainly more appealing and easier to interpret. If we know which OS type is the most predominant, we can ask the tech team to configure the website for that particular OS and take the necessary actions, such as explicitly defining CSS for that particular OS and defining valid doctypes."
      ],
      "metadata": {
        "id": "VL3yqctDKxWT"
      }
    },
    {
      "cell_type": "markdown",
      "source": [
        "**Administrative Pageview Distribution**\n",
        "\n",
        "Administrative pages on a website can be pages where the content is being added to the site or the pages where the site is managed. For example, for a WordPress site, ../ wp-admin will be the admin page, which, in turn, will have multiple pages within itself."
      ],
      "metadata": {
        "id": "6NYCxDPsK7FL"
      }
    },
    {
      "cell_type": "code",
      "source": [
        "sns.countplot(df['Administrative'])\n",
        "plt.title('Administrative Pageview Distribution', fontsize = 16)\n",
        "plt.show()"
      ],
      "metadata": {
        "id": "g5QNKkkVKygY"
      },
      "execution_count": null,
      "outputs": []
    },
    {
      "cell_type": "markdown",
      "source": [
        "We can see from the preceding plot that users tend to visit page 0 the most often."
      ],
      "metadata": {
        "id": "L4-EQaD4Lxd2"
      }
    },
    {
      "cell_type": "markdown",
      "source": [
        "**Information Pageview Distribution**\n",
        "\n",
        "\n",
        "The information pages of a site are the pages where the direct information is presented. The simple web pages that do not generate leads or that are not connected to lead-generating pages can be classified as information pages. For example, contact pages that simply display contact information could be considered as information pages.\n"
      ],
      "metadata": {
        "id": "Mvt31Hy_Lz06"
      }
    },
    {
      "cell_type": "code",
      "source": [
        "sns.countplot(df['Informational'])\n",
        "plt.title('Information Pageview Distribution', fontsize = 16)\n",
        "plt.show()"
      ],
      "metadata": {
        "id": "C_cuWkmiLyvN"
      },
      "execution_count": null,
      "outputs": []
    },
    {
      "cell_type": "markdown",
      "source": [
        "From the preceding graph, we can see that Information page 0 has the highest number of visitors. In order to get the exact count of customers visiting each information page."
      ],
      "metadata": {
        "id": "uhKdDYhDMcqc"
      }
    },
    {
      "cell_type": "code",
      "source": [
        "print(df['Informational'].value_counts(normalize=True))"
      ],
      "metadata": {
        "id": "VaU0McSiMg50"
      },
      "execution_count": null,
      "outputs": []
    },
    {
      "cell_type": "markdown",
      "source": [
        "79% of users are visiting pages 0 and 1."
      ],
      "metadata": {
        "id": "nPI9W0GbMs2-"
      }
    },
    {
      "cell_type": "markdown",
      "source": [
        "**Special Day Session Distribution**\n",
        "\n",
        "\n",
        " we will look at the number of visitors during a special day. We would like to know whether special days (such as Valentine's Day) impact the number of users visiting our website.\n"
      ],
      "metadata": {
        "id": "URoK-hrqM3To"
      }
    },
    {
      "cell_type": "code",
      "source": [
        "sns.countplot(df['SpecialDay'])\n",
        "plt.title('Special Day session Distribution', fontsize = 16)\n",
        "plt.show()"
      ],
      "metadata": {
        "id": "_1wflIjsNH-E"
      },
      "execution_count": null,
      "outputs": []
    },
    {
      "cell_type": "markdown",
      "source": [
        "From the preceding plot, we can see that special days have no impact on the number of visitors to our website."
      ],
      "metadata": {
        "id": "ghCmNuchNPL7"
      }
    },
    {
      "cell_type": "markdown",
      "source": [
        "let's look at the percentage distribution for special days:"
      ],
      "metadata": {
        "id": "vy2HO8RpNTm7"
      }
    },
    {
      "cell_type": "code",
      "source": [
        "print(df['SpecialDay'].value_counts(normalize=True))"
      ],
      "metadata": {
        "id": "RYHHUbRLNVOV"
      },
      "execution_count": null,
      "outputs": []
    },
    {
      "cell_type": "markdown",
      "source": [
        "From the preceding, we can see that 89.8% of visitors visited during a non-special day (special day subcategory 0), showing that there is no affinity of web traffic toward special days.\n",
        "\n",
        "\n",
        "\n",
        "---\n",
        "\n",
        "\n",
        "\n"
      ],
      "metadata": {
        "id": "lZAYpInwNi9-"
      }
    },
    {
      "cell_type": "markdown",
      "source": [
        "**Bivariate Analysis**\n",
        "\n",
        "\n",
        "\n",
        "We will be focusing on bivariate analysis. Bivariate analysis is performed between two variables to look at their relationship—for example, to determine which type of browser leads to a successful transaction, or which region has the highest number of customers who ended up making a transaction.\n",
        "\n",
        "\n",
        "We will be performing bivariate analysis between the revenue column and the following categories:\n",
        "\n",
        "\n",
        "*   Visitor type\n",
        "*   Traffic type\n",
        "\n",
        "*   Region\n",
        "\n",
        "*  Browser type\n",
        "\n",
        "*   Operating system\n",
        "*   Month\n",
        "\n",
        "\n",
        "*  Special day\n"
      ],
      "metadata": {
        "id": "6cvMG_dgOUbm"
      }
    },
    {
      "cell_type": "markdown",
      "source": [
        "Now, let's analyze each feature through its relationship to the **revenue**."
      ],
      "metadata": {
        "id": "nieTSFa3PZen"
      }
    },
    {
      "cell_type": "markdown",
      "source": [
        "**Revenue Versus Visitor Type**\n",
        "\n",
        "\n",
        "First, consider the relationship between revenue and visitor type.\n",
        "\n",
        "We will be plotting a categorical plot between *Revenue* and *VisitorType*. The categorical plot gives you the number of users in each subcategory, and whether each culminated in a purchase. The plot will define those users who did make a purchase as *True*, and those who did not as *False*:\n"
      ],
      "metadata": {
        "id": "jC8sUUKIP5ri"
      }
    },
    {
      "cell_type": "code",
      "source": [
        "sns.countplot(x =\"VisitorType\", hue =\"Revenue\", data=df)\n",
        "plt.show()\n"
      ],
      "metadata": {
        "id": "6WTqXuUkQU-I"
      },
      "execution_count": null,
      "outputs": []
    },
    {
      "cell_type": "markdown",
      "source": [
        "As you can see, more revenue conversions happen for returning customers than new customers. This clearly implies that we need to find ways to incentivize new customers to make a transaction with us."
      ],
      "metadata": {
        "id": "wwX_KRpDStFH"
      }
    },
    {
      "cell_type": "markdown",
      "source": [
        "**Revenue Versus Traffic Type**\n",
        "\n",
        "\n",
        "\n",
        "\n",
        "We will be plotting a countplot between revenue and traffic type. The countplot gives you the number of users in each traffic type, and whether or not they made a purchase (shown as True or False in the plot):\n"
      ],
      "metadata": {
        "id": "9T7mBYJhS3oH"
      }
    },
    {
      "cell_type": "code",
      "source": [
        "sns.countplot(x=\"TrafficType\", hue=\"Revenue\", data=df)\n",
        "plt.legend(loc='right')\n",
        "plt.show()"
      ],
      "metadata": {
        "id": "YBSKrnGwTR8b"
      },
      "execution_count": null,
      "outputs": []
    },
    {
      "cell_type": "markdown",
      "source": [
        "From the preceding plot, we can see that more revenue conversion happens for web traffic generated from source 2. Even though source 13 generated a considerable amount of web traffic, conversion is very low compared to others."
      ],
      "metadata": {
        "id": "g8ok9F49T2Uf"
      }
    },
    {
      "cell_type": "markdown",
      "source": [
        "**Analyzing the Relationship between Revenue and Other Variables**\n",
        "\n",
        "\n",
        "We will evaluate the relationship between revenue and other variables, such as region, browser, operating system, and month of the year, to determine how these variables contribute to sales. This information will allow us to plan our marketing campaigns and logistics better."
      ],
      "metadata": {
        "id": "fmv9o-KDUIkH"
      }
    },
    {
      "cell_type": "code",
      "source": [
        "sns.countplot(x=\"Region\", hue=\"Revenue\", data=df)\n",
        "plt.show()"
      ],
      "metadata": {
        "id": "UwqvaY46UcEQ"
      },
      "execution_count": null,
      "outputs": []
    },
    {
      "cell_type": "markdown",
      "source": [
        "From the preceding plot, we can see that region 1 accounts for most sales, and region 3 the second most. With this information, we can plan our marketing and supply chain activities in a better way. For example, we might propose building a warehouse specifically catering to the needs of region 1 to increase delivery rates and ensure that products in the highest demand are always well stocked"
      ],
      "metadata": {
        "id": "-ApSfj_GUoTY"
      }
    },
    {
      "cell_type": "markdown",
      "source": [
        "Now, we will consider the relationship between Revenue and the\n",
        "Browser type.\n"
      ],
      "metadata": {
        "id": "pzw7kys5Uqhy"
      }
    },
    {
      "cell_type": "code",
      "source": [
        "sns.countplot(x=\"Browser\", hue=\"Revenue\", data=df)\n",
        "plt.show()"
      ],
      "metadata": {
        "id": "m8G9gY9hU1E3"
      },
      "execution_count": null,
      "outputs": []
    },
    {
      "cell_type": "markdown",
      "source": [
        "As you can see, more revenue-generating transactions have been performed from Browser 2. Even though Browser 1 creates a considerable number\n",
        "of sessions, the conversion rate is low. This is something we need to investigate further.\n",
        "\n",
        "\n",
        "Now, consider the relationship between *Revenue* and the\n",
        "*OperatingSystems* type.\n"
      ],
      "metadata": {
        "id": "vifT0pQjVBa0"
      }
    },
    {
      "cell_type": "code",
      "source": [
        "sns.countplot(x ='OperatingSystems', hue = 'Revenue', data = df)\n",
        "plt.show()"
      ],
      "metadata": {
        "id": "GKFythjjVFgD"
      },
      "execution_count": null,
      "outputs": []
    },
    {
      "cell_type": "markdown",
      "source": [
        "As you can see, more revenue-generating transactions happened with OS 2 than the other types.\n",
        "\n",
        "\n",
        "Now, consider the relationship between Revenue (did the session end with a purchase?) and Months."
      ],
      "metadata": {
        "id": "mmVHQJTqWSiD"
      }
    },
    {
      "cell_type": "code",
      "source": [
        "sns.countplot(x = 'Month', hue = 'Revenue', data = df)\n",
        "plt.show()"
      ],
      "metadata": {
        "id": "BRdeLl30SvE1"
      },
      "execution_count": null,
      "outputs": []
    },
    {
      "cell_type": "markdown",
      "source": [
        "As we can see, Website visitors may be high in May, but we can observe from the preceding bar plot that a greater number of purchases were made in the month of November.\n",
        "\n",
        "---\n",
        "\n"
      ],
      "metadata": {
        "id": "yhLUPzLFW9wq"
      }
    },
    {
      "cell_type": "markdown",
      "source": [
        "**Linear Relationships**\n",
        "\n",
        "\n",
        "The main purpose behind this section is to determine whether any two columns are linearly related. The variables are said to have a linear relationship if, and only if, they satisfy one of the following conditions:\n",
        "\n",
        "*   The value of one variable increases, while the other variable's value increases (Positive corrlation)\n",
        "*  The value of one variable increases, while the other variable's value decreases (negative correlation)\n",
        "\n",
        "\n",
        "we will be studying the linear relationship between the following variables:\n",
        "\n",
        "\n",
        "*   Bounce rate versus exit rate\n",
        "\n",
        "*   Page value versus bounce rate\n",
        "\n",
        "*   Page value versus exit rate\n",
        "*   Impact of administration page views and administrative pageview duration on revenue\n",
        "\n",
        "*  Impact of information page views and information pageview duration on revenue\n",
        "\n",
        "\n",
        "\n",
        "\n"
      ],
      "metadata": {
        "id": "d9Goodj36tl-"
      }
    },
    {
      "cell_type": "markdown",
      "source": [
        "**Bounce Rate versus Exit Rate**\n",
        "\n",
        "The linear relationship between bounce rate versus exit rate can be studied by plotting an LM plot from seaborn.\n"
      ],
      "metadata": {
        "id": "9MbD5Bkv9yDI"
      }
    },
    {
      "cell_type": "code",
      "source": [
        "sns.set(style=\"whitegrid\")\n",
        "ay = sns.lmplot(x=\"BounceRates\", y=\"ExitRates\", data=df)\n",
        "plt.title('Bounce Rate versus Exit Rate', fontsize = 20)"
      ],
      "metadata": {
        "id": "JENv-_rP-Teq"
      },
      "execution_count": null,
      "outputs": []
    },
    {
      "cell_type": "markdown",
      "source": [
        "As you can see, there is a positive correlation between the bounce rate and the exit rate. With the increase in bounce rate, the exit rate of the page increases."
      ],
      "metadata": {
        "id": "Z7nLO85O-z-q"
      }
    },
    {
      "cell_type": "markdown",
      "source": [
        "**Page Value versus Bounce Rate**"
      ],
      "metadata": {
        "id": "6iUWikTS-1l4"
      }
    },
    {
      "cell_type": "code",
      "source": [
        "sns.set(style=\"whitegrid\")\n",
        "ax = sns.lmplot(x=\"PageValues\", y=\"BounceRates\" , data=df)\n",
        "plt.title('Page Value versus Bounce Rate', fontsize = 20)"
      ],
      "metadata": {
        "id": "gVSIZI0-ceDO"
      },
      "execution_count": null,
      "outputs": []
    },
    {
      "cell_type": "markdown",
      "source": [
        "As we can see in the preceding plot, there is a** negative correlation** between *page value* and *bounce rate*. As the page value increases, the bounce rate decreases. To increase the probability of a customer purchasing with us, we need to improve the page value—perhaps by making the content more engaging or by using images to convey the information"
      ],
      "metadata": {
        "id": "vTuujPrrdYZc"
      }
    },
    {
      "cell_type": "markdown",
      "source": [
        "**Page Value versus Exit Rate**"
      ],
      "metadata": {
        "id": "7DIB6V-JdpW3"
      }
    },
    {
      "cell_type": "code",
      "source": [
        "sns.set(style= 'whitegrid')\n",
        "ax = sns.lmplot(x = 'PageValues', y = 'ExitRates', data = df)\n",
        "plt.title('Page Value versus Exit Rate')"
      ],
      "metadata": {
        "id": "4w2NH4YHdrwq"
      },
      "execution_count": null,
      "outputs": []
    },
    {
      "cell_type": "markdown",
      "source": [
        "As we can see in the preceding plot, there is a negative correlation between page value and exit rate. Web pages with a better page value have a lower exit rate"
      ],
      "metadata": {
        "id": "xbxAgPn7e7Uv"
      }
    },
    {
      "cell_type": "markdown",
      "source": [
        "**Impact of Administration Page Views and Administrative Pageview Duration on Revenue**\n",
        "\n",
        "We want to look at the relationship between administrative pageviews and the amount of time spent on it. Does this relationship have an impact on revenue? If so, how?\n",
        "To study the relationship, draw the LM plot with the x axis as Administrative and the y axis as Administrative_Duration, and with the hue parameter as Revenue:\n"
      ],
      "metadata": {
        "id": "tpqljxzLfFw0"
      }
    },
    {
      "cell_type": "code",
      "source": [
        "sns.set(style=\"whitegrid\")\n",
        "ax = sns.lmplot(x=\"Administrative\", y=\"Administrative_Duration\",\\\n",
        "                hue='Revenue', data=df)\n",
        "plt.title('Impact of Administration Page Views and Administrative Pageview Duration on Revenue', fontsize = 15)"
      ],
      "metadata": {
        "id": "j4hr7pMCfS7M"
      },
      "execution_count": null,
      "outputs": []
    },
    {
      "cell_type": "markdown",
      "source": [
        "\n",
        "From the preceding plot, we can infer that administrative-related pageviews and the administrative-related pageview duration are **positively correlated.** When there is an increase in the number of administrative pageviews, the administrative pageview duration also increases.\n"
      ],
      "metadata": {
        "id": "t0A4v5SjiRiQ"
      }
    },
    {
      "cell_type": "markdown",
      "source": [
        "**Impact of Information Page Views and Information Pageview Duration on Revenue**\n",
        "\n",
        "\n",
        "we want to look at the relationship between the number of views of the information pages and the amount of time spent on them. Does this relationship have an impact on revenue? If so, how?"
      ],
      "metadata": {
        "id": "wb4oQRt0iTb4"
      }
    },
    {
      "cell_type": "code",
      "source": [
        "sns.set(style=\"whitegrid\")\n",
        "ax = sns.lmplot(x=\"Informational\", y=\"Informational_Duration\",\\\n",
        "                hue='Revenue', data=df)\n",
        "plt.title('Impact of Information Page Views and Information Pageview Duration on Revenue', fontsize = 15)"
      ],
      "metadata": {
        "id": "y8Ty1Nc4io6V"
      },
      "execution_count": null,
      "outputs": []
    },
    {
      "cell_type": "markdown",
      "source": [
        "From the preceding plot, we can conclude the following:\n",
        "\n",
        "*  Information page views and information pageview duration are positively correlated. With an increase in the number of information pageviews, the information pageview duration also increases.\n",
        "\n",
        "*  Customers who have made online purchases visited fewer numbers of informational pages. This implies that informational pageviews don't have much effect on revenue generation.\n",
        "\n",
        "\n",
        "\n",
        "\n",
        "---\n",
        "\n",
        "\n"
      ],
      "metadata": {
        "id": "_OA1lcvVjn1p"
      }
    },
    {
      "cell_type": "markdown",
      "source": [
        "**Clustering**\n",
        "\n",
        "\n",
        "**Performing K-means Clustering for Informational Duration versus Bounce Rate**"
      ],
      "metadata": {
        "id": "xyHRDwdkpU2I"
      }
    },
    {
      "cell_type": "code",
      "source": [
        "#\tSelect the columns and assign them to a variable called x\n",
        "x = df.iloc[:, [3, 6]].values\n",
        "\n",
        "# Run the k-means algorithm for different values of k. km is the k-means clustering algorithm\n",
        "wcss = []\n",
        "for i in range(1, 11):\n",
        "    km = KMeans(n_clusters = i,\n",
        "              init = 'k-means++',\n",
        "              max_iter = 300,\n",
        "              n_init = 10,\n",
        "              random_state = 0,\n",
        "              algorithm = 'elkan',\n",
        "              tol = 0.001)\n",
        "    \n",
        "# Fit the k-means algorithm to the x variable we defined in the preceding steps:\n",
        "    km.fit(x)\n",
        "    labels = km.labels_\n",
        "\n",
        "# Append the inertia value calculated using Kmeans to wcss:\n",
        "    wcss.append(km.inertia_)\n",
        "\n",
        "# Plot the value of wcss with the value of k: \n",
        "plt.rcParams['figure.figsize'] = (15, 7)\n",
        "plt.plot(range(1, 11), wcss)\n",
        "plt.grid()\n",
        "plt.tight_layout()\n",
        "plt.title('The Elbow Method', fontsize = 20)\n",
        "plt.xlabel('No. of Clusters')\n",
        "plt.ylabel('wcss')\n",
        "plt.show()\n"
      ],
      "metadata": {
        "id": "JJcsb9-LMiS-"
      },
      "execution_count": null,
      "outputs": []
    },
    {
      "cell_type": "markdown",
      "source": [
        "From the preceding elbow graph, we can infer that k=2 is the optimum value for clustering."
      ],
      "metadata": {
        "id": "MhSJ6nmWQsFc"
      }
    },
    {
      "cell_type": "markdown",
      "source": [
        "Now, run k-means clustering with k=2"
      ],
      "metadata": {
        "id": "jNwBv8wbQyNR"
      }
    },
    {
      "cell_type": "code",
      "source": [
        "km = KMeans(n_clusters = 2, init = 'k-means++', \\\n",
        "             max_iter = 300, n_init = 10, random_state = 0)\n",
        "y_means = km.fit_predict(x)"
      ],
      "metadata": {
        "id": "jgnx4EpsQ05S"
      },
      "execution_count": null,
      "outputs": []
    },
    {
      "cell_type": "markdown",
      "source": [
        "Plot the scatter plot between Bounce Rates and\n",
        "Informational Duration \n",
        "\n",
        "\n",
        "\n",
        "We plot the scatter plot between the exit rate and information pageview duration. To make the graph more readable, we'll assign the color pink for uninterested customers (where Revenue is False), yellow for target customers (where Revenue is True), and blue for the centroid of the cluster:\n"
      ],
      "metadata": {
        "id": "4F0VhgajRGgb"
      }
    },
    {
      "cell_type": "code",
      "source": [
        "plt.scatter(x[y_means == 0, 0], x[y_means == 0, 1], s = 100, c = 'pink', label = 'Un-interested Customers')\n",
        "plt.scatter(x[y_means == 1, 0], x[y_means == 1, 1], s = 100, c = 'yellow', label = 'Target Customers')\n",
        "plt.scatter(km.cluster_centers_[:,0], km.cluster_centers_[:, 1], s = 50, c = 'blue' , label = 'centeroid')\n",
        "\n",
        "plt.title('Informational Duration vs Bounce Rates', fontsize = 20)\n",
        "plt.grid()\n",
        "plt.xlabel('Informational Duration')\n",
        "plt.ylabel('Bounce Rates')\n",
        "plt.legend()\n",
        "plt.show()\n",
        "     \n"
      ],
      "metadata": {
        "id": "HDu67EZdRIWv"
      },
      "execution_count": null,
      "outputs": []
    },
    {
      "cell_type": "markdown",
      "source": [
        "From the preceding graph, we can see that our target customers spend around 850-900 seconds on average on the Information page."
      ],
      "metadata": {
        "id": "eEHB-BwUSSR1"
      }
    },
    {
      "cell_type": "markdown",
      "source": [
        "**Performing K-means Clustering for Informational Duration versus Exit Rate**"
      ],
      "metadata": {
        "id": "m05UkFk-TO7f"
      }
    },
    {
      "cell_type": "code",
      "source": [
        "#\tSelect the columns and assign them to a variable called x\n",
        "x = df.iloc[:,[3,7]].values\n",
        "\n",
        "# Run the k-means algorithm for different values of k. km is the k-means clustering algorithm\n",
        "wcss = []\n",
        "for i in range(1, 11):\n",
        "    km = KMeans(n_clusters = i,\n",
        "              init = 'k-means++',\n",
        "              max_iter = 300,\n",
        "              n_init = 10,\n",
        "              random_state = 0,\n",
        "              algorithm = 'elkan',\n",
        "              tol = 0.001)\n",
        "    \n",
        "# Fit the k-means algorithm to the x variable we defined in the preceding steps:\n",
        "    km.fit(x)\n",
        "    labels = km.labels_\n",
        "\n",
        "# Append the inertia value calculated using Kmeans to wcss:\n",
        "    wcss.append(km.inertia_)\n",
        "\n",
        "# Plot the value of wcss with the value of k: \n",
        "plt.rcParams['figure.figsize'] = (15, 7)\n",
        "plt.plot(range(1, 11), wcss)\n",
        "plt.grid()\n",
        "plt.tight_layout()\n",
        "plt.title('The Elbow Method', fontsize = 20)\n",
        "plt.xlabel('No. of Clusters')\n",
        "plt.ylabel('wcss')\n",
        "plt.show()\n"
      ],
      "metadata": {
        "id": "7C7TaWA0UdrA"
      },
      "execution_count": null,
      "outputs": []
    },
    {
      "cell_type": "markdown",
      "source": [
        "From the preceding elbow graph, we can see that k=2 is the optimum value for clustering"
      ],
      "metadata": {
        "id": "q1NO6jGOUxzK"
      }
    },
    {
      "cell_type": "markdown",
      "source": [
        "Now, let's run k-means clustering with k=2:"
      ],
      "metadata": {
        "id": "F9sYH_0cUzxw"
      }
    },
    {
      "cell_type": "code",
      "source": [
        "km = KMeans(n_clusters = 2, init = 'k-means++', max_iter = 300, n_init = 10, random_state = 0)\n",
        "y_means = km.fit_predict(x)"
      ],
      "metadata": {
        "id": "xApYzwyrU4IO"
      },
      "execution_count": null,
      "outputs": []
    },
    {
      "cell_type": "markdown",
      "source": [
        "We plot the scatter plot between the exit rate and information pageview duration. To make the graph more readable, we'll assign the color pink for uninterested customers (where Revenue is False), yellow for target customers (where Revenue is True), and blue for the centroid of the cluster:"
      ],
      "metadata": {
        "id": "JZm2h3cLltO-"
      }
    },
    {
      "cell_type": "code",
      "source": [
        "plt.scatter(x[y_means == 0, 0], x[y_means == 0, 1], s = 100, c = 'pink', label = 'Un-interested Customers')\n",
        "plt.scatter(x[y_means == 1, 0], x[y_means == 1, 1], s = 100, c = 'yellow', label = 'Target Customers')\n",
        "plt.scatter(km.cluster_centers_[:,0], km.cluster_centers_[:, 1], s = 50, c = 'blue' , label = 'centeroid')\n",
        "plt.title('Informational Duration vs Exit Rates', fontsize = 20) \n",
        "plt.grid()\n",
        "plt.xlabel('Informational Duration') \n",
        "plt.ylabel('Exit Rates')\n",
        "plt.legend()\n",
        "plt.show()"
      ],
      "metadata": {
        "id": "tP40IIXclPFN"
      },
      "execution_count": null,
      "outputs": []
    },
    {
      "cell_type": "markdown",
      "source": [
        "From the preceding cluster, we can infer that our target customers spend around 150 seconds more on average than the other customers before exiting."
      ],
      "metadata": {
        "id": "pR-ORMJ4mL7H"
      }
    },
    {
      "cell_type": "markdown",
      "source": [
        "**Performing K-means Clustering for Administrative pageview Duration versus Bounce Rate**"
      ],
      "metadata": {
        "id": "i0HrByowmdOX"
      }
    },
    {
      "cell_type": "code",
      "source": [
        "#\tSelect the columns and assign them to a variable called x\n",
        "x = df.iloc[:, [1, 6]].values\n",
        "\n",
        "# Run the k-means algorithm for different values of k. km is the k-means clustering algorithm\n",
        "wcss = []\n",
        "for i in range(1, 11):\n",
        "    km = KMeans(n_clusters = i,\n",
        "              init = 'k-means++',\n",
        "              max_iter = 300,\n",
        "              n_init = 10,\n",
        "              random_state = 0,\n",
        "              algorithm = 'elkan',\n",
        "              tol = 0.001)\n",
        "    \n",
        "# Fit the k-means algorithm to the x variable we defined in the preceding steps:\n",
        "    km.fit(x)\n",
        "    labels = km.labels_\n",
        "\n",
        "# Append the inertia value calculated using Kmeans to wcss:\n",
        "    wcss.append(km.inertia_)\n",
        "\n",
        "# Plot the value of wcss with the value of k: \n",
        "plt.rcParams['figure.figsize'] = (15, 7)\n",
        "plt.plot(range(1, 11), wcss)\n",
        "plt.grid()\n",
        "plt.tight_layout()\n",
        "plt.title('The Elbow Method', fontsize = 20)\n",
        "plt.xlabel('No. of Clusters')\n",
        "plt.ylabel('wcss')\n",
        "plt.show()\n"
      ],
      "metadata": {
        "id": "RYMDp2WHn_1F"
      },
      "execution_count": null,
      "outputs": []
    },
    {
      "cell_type": "markdown",
      "source": [
        "From the preceding elbow graph, we can see that k=2 is the optimum value for clustering"
      ],
      "metadata": {
        "id": "kG9iTCIOoi47"
      }
    },
    {
      "cell_type": "markdown",
      "source": [
        "Now, let's run k-means clustering with k=2:"
      ],
      "metadata": {
        "id": "xoUA_BA2wXLj"
      }
    },
    {
      "cell_type": "code",
      "source": [
        "km = KMeans(n_clusters = 2, init = 'k-means++', max_iter = 300, n_init = 10, random_state = 0)\n",
        "y_means = km.fit_predict(x)"
      ],
      "metadata": {
        "id": "X7EC55DVwUgm"
      },
      "execution_count": null,
      "outputs": []
    },
    {
      "cell_type": "markdown",
      "source": [
        "We plot the scatter plot between the bounce rate and Admainstrative pageview duration. we'll assign the color pink for uninterested customers, cyan color for target customers, and blue for the centroid of the cluster:"
      ],
      "metadata": {
        "id": "-tZVjNu3okEf"
      }
    },
    {
      "cell_type": "code",
      "source": [
        "plt.scatter(x[y_means == 0, 0], x[y_means == 0, 1], s = 100, c = 'pink', label = 'Un-interested Customers')\n",
        "plt.scatter(x[y_means == 1, 0], x[y_means == 1, 1], s = 100, c = 'cyan', label = 'Target Customers')\n",
        "plt.scatter(km.cluster_centers_[:,0], km.cluster_centers_[:, 1], s = 50, c = 'blue' , label = 'centeroid')\n",
        "plt.title('Admainstrative pageview duration Vs bounce rate', fontsize = 20) \n",
        "plt.grid()\n",
        "plt.xlabel('Admainstrative pageview duration') \n",
        "plt.ylabel('bounce rate')\n",
        "plt.legend()\n",
        "plt.show()"
      ],
      "metadata": {
        "id": "l8MTliO7pUUf"
      },
      "execution_count": null,
      "outputs": []
    },
    {
      "cell_type": "markdown",
      "source": [
        "**Performing K-means Clustering for Administrative pageview Duration versus Exit Rate**"
      ],
      "metadata": {
        "id": "TnuNu55mw3DV"
      }
    },
    {
      "cell_type": "code",
      "source": [
        "#\tSelect the columns and assign them to a variable called x\n",
        "x = df.iloc[:, [1, 7]].values\n",
        "\n",
        "# Run the k-means algorithm for different values of k. km is the k-means clustering algorithm\n",
        "wcss = []\n",
        "for i in range(1, 11):\n",
        "    km = KMeans(n_clusters = i,\n",
        "              init = 'k-means++',\n",
        "              max_iter = 300,\n",
        "              n_init = 10,\n",
        "              random_state = 0,\n",
        "              algorithm = 'elkan',\n",
        "              tol = 0.001)\n",
        "    \n",
        "# Fit the k-means algorithm to the x variable we defined in the preceding steps:\n",
        "    km.fit(x)\n",
        "    labels = km.labels_\n",
        "\n",
        "# Append the inertia value calculated using Kmeans to wcss:\n",
        "    wcss.append(km.inertia_)\n",
        "\n",
        "# Plot the value of wcss with the value of k: \n",
        "plt.rcParams['figure.figsize'] = (15, 7)\n",
        "plt.plot(range(1, 11), wcss)\n",
        "plt.grid()\n",
        "plt.tight_layout()\n",
        "plt.title('The Elbow Method', fontsize = 20)\n",
        "plt.xlabel('No. of Clusters')\n",
        "plt.ylabel('wcss')\n",
        "plt.show()\n"
      ],
      "metadata": {
        "id": "JvoRIwmLv-Jl"
      },
      "execution_count": null,
      "outputs": []
    },
    {
      "cell_type": "markdown",
      "source": [
        "From the preceding elbow graph, we can see that k=2 is the optimum value for clustering"
      ],
      "metadata": {
        "id": "pk0jG4gyxrVg"
      }
    },
    {
      "cell_type": "code",
      "source": [
        "#run k-means clustering with k=2:\n",
        "km = KMeans(n_clusters = 2, init = 'k-means++', max_iter = 300, n_init = 10, random_state = 0)\n",
        "y_means = km.fit_predict(x)"
      ],
      "metadata": {
        "id": "5T5-ZIyFxuHC"
      },
      "execution_count": null,
      "outputs": []
    },
    {
      "cell_type": "markdown",
      "source": [
        "We plot the scatter plot between the exit rate and Admainstrative pageview duration. we'll assign the color pink for uninterested customers, cyan color for target customers, and blue for the centroid of the cluster:"
      ],
      "metadata": {
        "id": "Mn-qNm8aygzj"
      }
    },
    {
      "cell_type": "code",
      "source": [
        "plt.scatter(x[y_means == 0, 0], x[y_means == 0, 1], s = 100, c = 'pink', label = 'Un-interested Customers')\n",
        "plt.scatter(x[y_means == 1, 0], x[y_means == 1, 1], s = 100, c = 'cyan', label = 'Target Customers')\n",
        "plt.scatter(km.cluster_centers_[:,0], km.cluster_centers_[:, 1], s = 50, c = 'blue' , label = 'centeroid')\n",
        "plt.title('Admainstrative pageview duration Vs Exit rate', fontsize = 20) \n",
        "plt.grid()\n",
        "plt.xlabel('Admainstrative pageview duration') \n",
        "plt.ylabel('Exit rate')\n",
        "plt.legend()\n",
        "plt.show()"
      ],
      "metadata": {
        "id": "1YVe4ytdyuIX"
      },
      "execution_count": null,
      "outputs": []
    },
    {
      "cell_type": "markdown",
      "source": [
        "From the preceding graph, we can see that the uninterested customer spends less time in administrative pages compared with the target customers, who spend around 750 seconds on the administrative page before exiting."
      ],
      "metadata": {
        "id": "B4dwLMCny7FD"
      }
    },
    {
      "cell_type": "markdown",
      "source": [
        "From all the analysis, we can conclude the following:\n",
        "\n",
        "\n",
        "\n",
        "*  The conversion rates of new visitors are high compared to those of returning customers.\n",
        "\n",
        "*   While the number of returning customers to the website is high, the conversion rate is low compared to that of new customers.\n",
        "*   Pages with a high page value have a lower bounce rate. We should be talking\n",
        "with our tech team to find ways to improve the page value of the web pages.\n",
        "\n",
        "\n",
        "These factors will largely influence the next plan of action and open new avenues for\n",
        "more research and new business strategies and plans.\n"
      ],
      "metadata": {
        "id": "YO3MGGVF0TuJ"
      }
    }
  ]
}